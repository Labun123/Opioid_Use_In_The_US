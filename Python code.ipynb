{
 "cells": [
  {
   "cell_type": "code",
   "execution_count": 2,
   "metadata": {},
   "outputs": [
    {
     "data": {
      "text/html": [
       "<div>\n",
       "<style scoped>\n",
       "    .dataframe tbody tr th:only-of-type {\n",
       "        vertical-align: middle;\n",
       "    }\n",
       "\n",
       "    .dataframe tbody tr th {\n",
       "        vertical-align: top;\n",
       "    }\n",
       "\n",
       "    .dataframe thead th {\n",
       "        text-align: right;\n",
       "    }\n",
       "</style>\n",
       "<table border=\"1\" class=\"dataframe\">\n",
       "  <thead>\n",
       "    <tr style=\"text-align: right;\">\n",
       "      <th></th>\n",
       "      <th>BUYER_COUNTY</th>\n",
       "      <th>DRUG_NAME</th>\n",
       "      <th>QUANTITY</th>\n",
       "      <th>TRANSACTION_DATE</th>\n",
       "      <th>CALC_BASE_WT_IN_GM</th>\n",
       "    </tr>\n",
       "  </thead>\n",
       "  <tbody>\n",
       "    <tr>\n",
       "      <td>0</td>\n",
       "      <td>OSWEGO</td>\n",
       "      <td>HYDROCODONE</td>\n",
       "      <td>4.0</td>\n",
       "      <td>10232006</td>\n",
       "      <td>2.42160</td>\n",
       "    </tr>\n",
       "    <tr>\n",
       "      <td>1</td>\n",
       "      <td>OSWEGO</td>\n",
       "      <td>HYDROCODONE</td>\n",
       "      <td>2.0</td>\n",
       "      <td>10062006</td>\n",
       "      <td>4.54050</td>\n",
       "    </tr>\n",
       "    <tr>\n",
       "      <td>2</td>\n",
       "      <td>OSWEGO</td>\n",
       "      <td>HYDROCODONE</td>\n",
       "      <td>2.0</td>\n",
       "      <td>3162007</td>\n",
       "      <td>0.90810</td>\n",
       "    </tr>\n",
       "    <tr>\n",
       "      <td>3</td>\n",
       "      <td>OSWEGO</td>\n",
       "      <td>HYDROCODONE</td>\n",
       "      <td>2.0</td>\n",
       "      <td>5182007</td>\n",
       "      <td>0.90810</td>\n",
       "    </tr>\n",
       "    <tr>\n",
       "      <td>4</td>\n",
       "      <td>OSWEGO</td>\n",
       "      <td>HYDROCODONE</td>\n",
       "      <td>5.0</td>\n",
       "      <td>8242007</td>\n",
       "      <td>3.02700</td>\n",
       "    </tr>\n",
       "    <tr>\n",
       "      <td>...</td>\n",
       "      <td>...</td>\n",
       "      <td>...</td>\n",
       "      <td>...</td>\n",
       "      <td>...</td>\n",
       "      <td>...</td>\n",
       "    </tr>\n",
       "    <tr>\n",
       "      <td>18089970</td>\n",
       "      <td>SOLANO</td>\n",
       "      <td>HYDROCODONE</td>\n",
       "      <td>4.0</td>\n",
       "      <td>12142010</td>\n",
       "      <td>6.05400</td>\n",
       "    </tr>\n",
       "    <tr>\n",
       "      <td>18089971</td>\n",
       "      <td>LOS ANGELES</td>\n",
       "      <td>HYDROCODONE</td>\n",
       "      <td>1.0</td>\n",
       "      <td>9142011</td>\n",
       "      <td>3.02700</td>\n",
       "    </tr>\n",
       "    <tr>\n",
       "      <td>18089972</td>\n",
       "      <td>LOS ANGELES</td>\n",
       "      <td>HYDROCODONE</td>\n",
       "      <td>1.0</td>\n",
       "      <td>11282011</td>\n",
       "      <td>3.02700</td>\n",
       "    </tr>\n",
       "    <tr>\n",
       "      <td>18089973</td>\n",
       "      <td>KERN</td>\n",
       "      <td>HYDROCODONE</td>\n",
       "      <td>1.0</td>\n",
       "      <td>2162011</td>\n",
       "      <td>2.27025</td>\n",
       "    </tr>\n",
       "    <tr>\n",
       "      <td>18089974</td>\n",
       "      <td>SAN DIEGO</td>\n",
       "      <td>HYDROCODONE</td>\n",
       "      <td>2.0</td>\n",
       "      <td>3122009</td>\n",
       "      <td>3.02700</td>\n",
       "    </tr>\n",
       "  </tbody>\n",
       "</table>\n",
       "<p>29492068 rows × 5 columns</p>\n",
       "</div>"
      ],
      "text/plain": [
       "         BUYER_COUNTY    DRUG_NAME  QUANTITY  TRANSACTION_DATE  \\\n",
       "0              OSWEGO  HYDROCODONE       4.0          10232006   \n",
       "1              OSWEGO  HYDROCODONE       2.0          10062006   \n",
       "2              OSWEGO  HYDROCODONE       2.0           3162007   \n",
       "3              OSWEGO  HYDROCODONE       2.0           5182007   \n",
       "4              OSWEGO  HYDROCODONE       5.0           8242007   \n",
       "...               ...          ...       ...               ...   \n",
       "18089970       SOLANO  HYDROCODONE       4.0          12142010   \n",
       "18089971  LOS ANGELES  HYDROCODONE       1.0           9142011   \n",
       "18089972  LOS ANGELES  HYDROCODONE       1.0          11282011   \n",
       "18089973         KERN  HYDROCODONE       1.0           2162011   \n",
       "18089974    SAN DIEGO  HYDROCODONE       2.0           3122009   \n",
       "\n",
       "          CALC_BASE_WT_IN_GM  \n",
       "0                    2.42160  \n",
       "1                    4.54050  \n",
       "2                    0.90810  \n",
       "3                    0.90810  \n",
       "4                    3.02700  \n",
       "...                      ...  \n",
       "18089970             6.05400  \n",
       "18089971             3.02700  \n",
       "18089972             3.02700  \n",
       "18089973             2.27025  \n",
       "18089974             3.02700  \n",
       "\n",
       "[29492068 rows x 5 columns]"
      ]
     },
     "execution_count": 2,
     "metadata": {},
     "output_type": "execute_result"
    }
   ],
   "source": [
    "import numpy as np\n",
    "import pandas as pd\n",
    "import matplotlib.pyplot as plt\n",
    "import seaborn as sns\n",
    "all_ny_data = pd.read_csv(\"/Users/mike/Desktop/551 Visualize II/project/arcos-ny-statewide-itemized.csv\",  usecols = ['BUYER_COUNTY','TRANSACTION_DATE','CALC_BASE_WT_IN_GM','QUANTITY','DRUG_NAME'])\n",
    "all_ca_data = pd.read_csv(\"/Users/mike/Desktop/551 Visualize II/project/arcos-ca-statewide-california.csv\",  usecols = ['BUYER_COUNTY','TRANSACTION_DATE','CALC_BASE_WT_IN_GM','QUANTITY','DRUG_NAME'])\n",
    "both_data = [all_ny_data, all_ca_data]\n",
    "both_data = pd.concat(both_data)\n",
    "both_data"
   ]
  },
  {
   "cell_type": "code",
   "execution_count": 3,
   "metadata": {},
   "outputs": [
    {
     "name": "stdout",
     "output_type": "stream",
     "text": [
      "0           2006\n",
      "1           2006\n",
      "2           2007\n",
      "3           2007\n",
      "4           2007\n",
      "            ... \n",
      "18089970    2010\n",
      "18089971    2011\n",
      "18089972    2011\n",
      "18089973    2011\n",
      "18089974    2009\n",
      "Name: Year, Length: 29492068, dtype: object\n"
     ]
    }
   ],
   "source": [
    "both_data.dtypes\n",
    "both_data['TRANSACTION_DATE'] = both_data['TRANSACTION_DATE'].astype(str)\n",
    "both_data['Year'] = both_data['TRANSACTION_DATE'].str[-4:]\n",
    "print(both_data['Year'])\n",
    "both_data['Year'] = both_data['Year'].astype(int)"
   ]
  },
  {
   "cell_type": "code",
   "execution_count": 6,
   "metadata": {},
   "outputs": [
    {
     "data": {
      "text/plain": [
       "Year                        int64\n",
       "State                      object\n",
       "BUYER_COUNTY               object\n",
       "Model-based Death Rate    float64\n",
       "dtype: object"
      ]
     },
     "execution_count": 6,
     "metadata": {},
     "output_type": "execute_result"
    }
   ],
   "source": [
    "death_Data = pd.read_excel (r'/Users/mike/Desktop/551 Visualize II/project/year state county death.xlsx')\n",
    "death_Data[\"BUYER_COUNTY\"] = death_Data[\"BUYER_COUNTY\"].str.upper()\n",
    "death_Data[\"BUYER_COUNTY\"]=death_Data[\"BUYER_COUNTY\"].str.slice(0, -11)\n",
    "#death_Data[\"BUYER_COUNTY\"] = death_Data[\"BUYER_COUNTY\"].str.upper()\n",
    "#print (death_Data)\n",
    "death_Data.dtypes"
   ]
  },
  {
   "cell_type": "code",
   "execution_count": 7,
   "metadata": {},
   "outputs": [],
   "source": [
    "real_data = pd.merge(both_data, death_Data, on=['BUYER_COUNTY', 'Year'], how='left')"
   ]
  },
  {
   "cell_type": "code",
   "execution_count": 8,
   "metadata": {},
   "outputs": [],
   "source": [
    "real_data.to_csv(r'/Users/mike/Desktop/551 Visualize II/project/real_data.csv')"
   ]
  },
  {
   "cell_type": "code",
   "execution_count": null,
   "metadata": {},
   "outputs": [],
   "source": []
  }
 ],
 "metadata": {
  "kernelspec": {
   "display_name": "Python 3",
   "language": "python",
   "name": "python3"
  },
  "language_info": {
   "codemirror_mode": {
    "name": "ipython",
    "version": 3
   },
   "file_extension": ".py",
   "mimetype": "text/x-python",
   "name": "python",
   "nbconvert_exporter": "python",
   "pygments_lexer": "ipython3",
   "version": "3.7.4"
  }
 },
 "nbformat": 4,
 "nbformat_minor": 2
}
